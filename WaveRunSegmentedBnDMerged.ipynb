{
 "cells": [
  {
   "cell_type": "code",
   "execution_count": 3,
   "id": "bc3bc706-abee-480f-9522-e3573aa68210",
   "metadata": {},
   "outputs": [
    {
     "name": "stdout",
     "output_type": "stream",
     "text": [
      "Exported combined file: H:\\Shadman\\Isabel_2011_FMModels\\CloseShore_FM_Wave_2011\\BnD\\Merged\\Boundary01_0001.csv\n",
      "Exported combined file: H:\\Shadman\\Isabel_2011_FMModels\\CloseShore_FM_Wave_2011\\BnD\\Merged\\Boundary01_0002.csv\n",
      "Exported combined file: H:\\Shadman\\Isabel_2011_FMModels\\CloseShore_FM_Wave_2011\\BnD\\Merged\\Boundary01_0003.csv\n",
      "Exported combined file: H:\\Shadman\\Isabel_2011_FMModels\\CloseShore_FM_Wave_2011\\BnD\\Merged\\Boundary01_0004.csv\n",
      "Exported combined file: H:\\Shadman\\Isabel_2011_FMModels\\CloseShore_FM_Wave_2011\\BnD\\Merged\\Boundary01_0005.csv\n",
      "Exported combined file: H:\\Shadman\\Isabel_2011_FMModels\\CloseShore_FM_Wave_2011\\BnD\\Merged\\Boundary01_0006.csv\n",
      "Exported combined file: H:\\Shadman\\Isabel_2011_FMModels\\CloseShore_FM_Wave_2011\\BnD\\Merged\\Boundary01_0007.csv\n",
      "Exported combined file: H:\\Shadman\\Isabel_2011_FMModels\\CloseShore_FM_Wave_2011\\BnD\\Merged\\Boundary01_0008.csv\n"
     ]
    }
   ],
   "source": [
    "import pandas as pd\n",
    "from datetime import datetime\n",
    "import os\n",
    "\n",
    "# Function to load and preprocess the data\n",
    "def load_and_preprocess(file_path):\n",
    "    # Assuming 'date and time' is the first column and it's in standard datetime format\n",
    "    df = pd.read_csv(file_path, parse_dates=['date and time'], infer_datetime_format=True)\n",
    "    return df\n",
    "\n",
    "# Folder paths (adjust these paths if necessary)\n",
    "folders = ['H:\\Shadman\\Isabel_2003_FMModels\\CloseShore_FM_Wave_2003\\BnD_AllForcing\\Segment_1', 'H:\\Shadman\\Isabel_2003_FMModels\\CloseShore_FM_Wave_2003\\BnD_AllForcing\\Segment_2', \n",
    "          'H:\\Shadman\\Isabel_2003_FMModels\\CloseShore_FM_Wave_2003\\BnD_AllForcing\\Segment_3', 'H:\\Shadman\\Isabel_2003_FMModels\\CloseShore_FM_Wave_2003\\BnD_AllForcing\\Segment_4',\n",
    "          'H:\\Shadman\\Isabel_2003_FMModels\\CloseShore_FM_Wave_2003\\BnD_AllForcing\\Segment_5', 'H:\\Shadman\\Isabel_2003_FMModels\\CloseShore_FM_Wave_2003\\BnD_AllForcing\\Segment_6',\n",
    "          'H:\\Shadman\\Isabel_2003_FMModels\\CloseShore_FM_Wave_2003\\BnD_AllForcing\\Segment_7', 'H:\\Shadman\\Isabel_2003_FMModels\\CloseShore_FM_Wave_2003\\BnD_AllForcing\\Segment_8']\n",
    "\n",
    "# Base file name\n",
    "file_base_name = 'Boundary01_'\n",
    "\n",
    "# Destination folder for combined files (adjust this path as needed)\n",
    "destination_folder = 'H:\\Shadman\\Isabel_2011_FMModels\\CloseShore_FM_Wave_2011\\BnD\\Merged'\n",
    "os.makedirs(destination_folder, exist_ok=True)\n",
    "\n",
    "# Loop through files (0001 to 0008)\n",
    "for i in range(1, 9):  # Loop through Boundary01_001 to Boundary01_008\n",
    "    dataframes = []\n",
    "    \n",
    "    # Loop through all folders and collect the files with the same index\n",
    "    for folder in folders:\n",
    "        file_path = os.path.join(folder, f'{file_base_name}{str(i).zfill(4)}.csv')\n",
    "        df = load_and_preprocess(file_path)\n",
    "        dataframes.append(df)\n",
    "    \n",
    "    # Concatenate the dataframes for the current file index (e.g., 001)\n",
    "    combined = pd.concat(dataframes)\n",
    "\n",
    "    # Sort by 'date and time' column to ensure continuous time series\n",
    "    combined = combined.sort_values('date and time')\n",
    "\n",
    "    # Remove overlaps by dropping duplicates based on the 'date and time' column, keeping the first occurrence\n",
    "    combined = combined.drop_duplicates(subset=['date and time'], keep='first')\n",
    "\n",
    "    # Reset the index after sorting and removing duplicates\n",
    "    combined = combined.reset_index(drop=True)\n",
    "\n",
    "    # Export the combined DataFrame for the current index to the destination folder\n",
    "    output_file_path = os.path.join(destination_folder, f'{file_base_name}{str(i).zfill(4)}.csv')\n",
    "    combined.to_csv(output_file_path, index=False)\n",
    "    \n",
    "    # Print to confirm the export\n",
    "    print(f'Exported combined file: {output_file_path}')\n"
   ]
  },
  {
   "cell_type": "code",
   "execution_count": 2,
   "id": "afea4d4a-4473-476d-92ed-eff390d24ac9",
   "metadata": {},
   "outputs": [
    {
     "data": {
      "text/plain": [
       "['H:\\\\Shadman\\\\Isabel_2003_FMModels\\\\CloseShore_FM_Wave_2003\\\\BnD_AllForcing']"
      ]
     },
     "execution_count": 2,
     "metadata": {},
     "output_type": "execute_result"
    }
   ],
   "source": [
    "folders\n",
    "\n"
   ]
  },
  {
   "cell_type": "code",
   "execution_count": null,
   "id": "1818d930-5cbe-4e6a-94d0-c9487afede18",
   "metadata": {},
   "outputs": [],
   "source": []
  }
 ],
 "metadata": {
  "kernelspec": {
   "display_name": "Python 3 (ipykernel)",
   "language": "python",
   "name": "python3"
  },
  "language_info": {
   "codemirror_mode": {
    "name": "ipython",
    "version": 3
   },
   "file_extension": ".py",
   "mimetype": "text/x-python",
   "name": "python",
   "nbconvert_exporter": "python",
   "pygments_lexer": "ipython3",
   "version": "3.11.7"
  }
 },
 "nbformat": 4,
 "nbformat_minor": 5
}
